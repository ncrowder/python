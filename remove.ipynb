{
  "nbformat": 4,
  "nbformat_minor": 0,
  "metadata": {
    "colab": {
      "provenance": [],
      "authorship_tag": "ABX9TyM/GTr/2gP/NzIi1yJU/JIA",
      "include_colab_link": true
    },
    "kernelspec": {
      "name": "python3",
      "display_name": "Python 3"
    },
    "language_info": {
      "name": "python"
    }
  },
  "cells": [
    {
      "cell_type": "markdown",
      "metadata": {
        "id": "view-in-github",
        "colab_type": "text"
      },
      "source": [
        "<a href=\"https://colab.research.google.com/github/ncrowder/python/blob/main/remove.ipynb\" target=\"_parent\"><img src=\"https://colab.research.google.com/assets/colab-badge.svg\" alt=\"Open In Colab\"/></a>"
      ]
    },
    {
      "cell_type": "code",
      "source": [
        "duplist = [1,2,2,3,4,5,2]"
      ],
      "metadata": {
        "id": "HjyH-90K13_4"
      },
      "execution_count": 2,
      "outputs": []
    },
    {
      "cell_type": "markdown",
      "source": [
        "# Original Method"
      ],
      "metadata": {
        "id": "Jr8243b21xJE"
      }
    },
    {
      "cell_type": "code",
      "source": [
        "# my original way of doing it\n",
        "while True:\n",
        "  try: duplist.remove(2)\n",
        "  except: break"
      ],
      "metadata": {
        "id": "KScyQyUP1bzE"
      },
      "execution_count": null,
      "outputs": []
    },
    {
      "cell_type": "code",
      "source": [
        "duplist #because this is a list method it updates the original list"
      ],
      "metadata": {
        "colab": {
          "base_uri": "https://localhost:8080/"
        },
        "id": "XtlRRqtg1lLe",
        "outputId": "db5c2780-2b42-40f7-9318-00c9910a0af6"
      },
      "execution_count": null,
      "outputs": [
        {
          "output_type": "execute_result",
          "data": {
            "text/plain": [
              "[1, 3, 4, 5]"
            ]
          },
          "metadata": {},
          "execution_count": 20
        }
      ]
    },
    {
      "cell_type": "markdown",
      "source": [
        "# List Comprehension Approach"
      ],
      "metadata": {
        "id": "4V2ddIfM1mJ-"
      }
    },
    {
      "cell_type": "code",
      "source": [
        "deduplist = [x for x in duplist if x !=2] #this is forming a new list so we can assign it a new name"
      ],
      "metadata": {
        "id": "wwyuFtQ71-UE"
      },
      "execution_count": null,
      "outputs": []
    },
    {
      "cell_type": "code",
      "source": [
        "deduplist"
      ],
      "metadata": {
        "colab": {
          "base_uri": "https://localhost:8080/"
        },
        "id": "pId2S5Gz3LSh",
        "outputId": "f826d10b-7286-4369-e3f6-007c39b66ed6"
      },
      "execution_count": null,
      "outputs": [
        {
          "output_type": "execute_result",
          "data": {
            "text/plain": [
              "[1, 3, 4, 5]"
            ]
          },
          "metadata": {},
          "execution_count": 26
        }
      ]
    },
    {
      "cell_type": "code",
      "source": [
        "#the above approach is essnetially a shorthand way of writing the code below"
      ],
      "metadata": {
        "id": "Dpf7PSWT2yY6"
      },
      "execution_count": null,
      "outputs": []
    },
    {
      "cell_type": "code",
      "source": [
        "deduplist = []\n",
        "for x in duplist:\n",
        "  if x != 2:\n",
        "    deduplist.append(x)"
      ],
      "metadata": {
        "id": "VEA1G0t32JN8"
      },
      "execution_count": null,
      "outputs": []
    },
    {
      "cell_type": "code",
      "source": [
        "deduplist"
      ],
      "metadata": {
        "colab": {
          "base_uri": "https://localhost:8080/"
        },
        "id": "5rJlf5A82Ffl",
        "outputId": "38153256-f2bd-4db3-cbe5-8347bc96ebac"
      },
      "execution_count": null,
      "outputs": [
        {
          "output_type": "execute_result",
          "data": {
            "text/plain": [
              "[1, 3, 4, 5]"
            ]
          },
          "metadata": {},
          "execution_count": 29
        }
      ]
    }
  ]
}